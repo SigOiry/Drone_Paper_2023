{
 "cells": [
  {
   "cell_type": "markdown",
   "metadata": {},
   "source": [
    "# \n",
    "\n",
    "\\<!DOCTYPE qgis PUBLIC ‘http://mrcc.com/qgis.dtd’ ‘SYSTEM’\\> <qgis version=\"3.28.11-Firenze\"> <identifier></identifier> <parentidentifier></parentidentifier> <language></language> <type>dataset</type>"
   ],
   "id": "904b253a-44e2-4b20-bb15-e634c81d694c"
  },
  {
   "cell_type": "raw",
   "metadata": {
    "raw_mimetype": "text/html"
   },
   "source": [
    "<title>"
   ],
   "id": "ca310820-30da-4165-99aa-cdffcea2194e"
  },
  {
   "cell_type": "raw",
   "metadata": {
    "raw_mimetype": "text/html"
   },
   "source": [
    "</title>"
   ],
   "id": "7fccf758-c337-43ee-9a58-a75051b68bb6"
  },
  {
   "cell_type": "markdown",
   "metadata": {},
   "source": [
    "<abstract></abstract> <links/> <fees></fees> <encoding></encoding> <crs> <spatialrefsys nativeFormat=\"Wkt\"> <wkt>GEOGCRS\\[“WGS 84”,ENSEMBLE\\[“World Geodetic System 1984 ensemble”,MEMBER\\[“World Geodetic System 1984 (Transit)”\\],MEMBER\\[“World Geodetic System 1984 (G730)”\\],MEMBER\\[“World Geodetic System 1984 (G873)”\\],MEMBER\\[“World Geodetic System 1984 (G1150)”\\],MEMBER\\[“World Geodetic System 1984 (G1674)”\\],MEMBER\\[“World Geodetic System 1984 (G1762)”\\],MEMBER\\[“World Geodetic System 1984 (G2139)”\\],ELLIPSOID\\[“WGS 84”,6378137,298.257223563,LENGTHUNIT\\[“metre”,1\\]\\],ENSEMBLEACCURACY\\[2.0\\]\\],PRIMEM\\[“Greenwich”,0,ANGLEUNIT\\[“degree”,0.0174532925199433\\]\\],CS\\[ellipsoidal,2\\],AXIS\\[“geodetic latitude (Lat)”,north,ORDER\\[1\\],ANGLEUNIT\\[“degree”,0.0174532925199433\\]\\],AXIS\\[“geodetic longitude (Lon)”,east,ORDER\\[2\\],ANGLEUNIT\\[“degree”,0.0174532925199433\\]\\],USAGE\\[SCOPE\\[“Horizontal component of 3D system.”\\],AREA\\[“World.”\\],BBOX\\[-90,-180,90,180\\]\\],ID\\[“EPSG”,4326\\]\\]</wkt> <proj4>+proj=longlat +datum=WGS84 +no_defs</proj4> <srsid>3452</srsid> <srid>4326</srid> <authid>EPSG:4326</authid> <description>WGS 84</description> <projectionacronym>longlat</projectionacronym> <ellipsoidacronym>EPSG:7030</ellipsoidacronym> <geographicflag>true</geographicflag> </spatialrefsys> </crs> <extent/> </qgis>"
   ],
   "id": "6204f39c-dd52-41d7-91a4-ab1050f8e554"
  }
 ],
 "nbformat": 4,
 "nbformat_minor": 5,
 "metadata": {}
}
