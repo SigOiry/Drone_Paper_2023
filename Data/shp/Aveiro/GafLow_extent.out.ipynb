{
 "cells": [
  {
   "cell_type": "markdown",
   "metadata": {},
   "source": [
    "# \n",
    "\n",
    "\\<!DOCTYPE qgis PUBLIC ‘http://mrcc.com/qgis.dtd’ ‘SYSTEM’\\> <qgis version=\"3.28.11-Firenze\"> <identifier></identifier> <parentidentifier></parentidentifier> <language></language> <type></type>"
   ],
   "id": "88f45467-c59c-4789-ac0e-0cf223e3a106"
  },
  {
   "cell_type": "raw",
   "metadata": {
    "raw_mimetype": "text/html"
   },
   "source": [
    "<title>"
   ],
   "id": "d2f8d214-5d16-4a25-8f3c-47046873e98e"
  },
  {
   "cell_type": "raw",
   "metadata": {
    "raw_mimetype": "text/html"
   },
   "source": [
    "</title>"
   ],
   "id": "ecc4933a-d21d-4d36-a56f-d3134b1d94ad"
  },
  {
   "cell_type": "markdown",
   "metadata": {},
   "source": [
    "<abstract></abstract> <links/> <fees></fees> <encoding></encoding> <crs> <spatialrefsys nativeFormat=\"Wkt\"> <wkt></wkt> <proj4></proj4> <srsid>0</srsid> <srid>0</srid> <authid></authid> <description></description> <projectionacronym></projectionacronym> <ellipsoidacronym></ellipsoidacronym> <geographicflag>false</geographicflag> </spatialrefsys> </crs> <extent/> </qgis>"
   ],
   "id": "1986953f-9f9b-47ac-8d1b-dcfa17121047"
  }
 ],
 "nbformat": 4,
 "nbformat_minor": 5,
 "metadata": {}
}
