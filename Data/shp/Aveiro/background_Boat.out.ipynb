{
 "cells": [
  {
   "cell_type": "markdown",
   "metadata": {},
   "source": [
    "# \n",
    "\n",
    "\\<!DOCTYPE qgis PUBLIC ‘http://mrcc.com/qgis.dtd’ ‘SYSTEM’\\> <qgis version=\"3.28.11-Firenze\"> <identifier></identifier> <parentidentifier></parentidentifier> <language></language> <type></type>"
   ],
   "id": "82e25ca7-6788-4570-8fb8-2a9f8d78b897"
  },
  {
   "cell_type": "raw",
   "metadata": {
    "raw_mimetype": "text/html"
   },
   "source": [
    "<title>"
   ],
   "id": "28dd914f-baba-431b-9031-32e93178e7b7"
  },
  {
   "cell_type": "raw",
   "metadata": {
    "raw_mimetype": "text/html"
   },
   "source": [
    "</title>"
   ],
   "id": "1c4232f5-0a7c-4ae7-a346-020b57617901"
  },
  {
   "cell_type": "markdown",
   "metadata": {},
   "source": [
    "<abstract></abstract> <contact> <name></name> <organization></organization> <position></position> <voice></voice> <fax></fax> <email></email> <role></role> </contact> <links/> <fees></fees> <encoding></encoding> <crs> <spatialrefsys nativeFormat=\"Wkt\"> <wkt></wkt> <proj4></proj4> <srsid>0</srsid> <srid>0</srid> <authid></authid> <description></description> <projectionacronym></projectionacronym> <ellipsoidacronym></ellipsoidacronym> <geographicflag>false</geographicflag> </spatialrefsys> </crs> <extent> <spatial maxz=\"0\" maxy=\"0\" minz=\"0\" minx=\"0\" maxx=\"0\" miny=\"0\" dimensions=\"2\" crs=\"\"/> <temporal> <period> <start></start> <end></end> </period> </temporal> </extent> </qgis>"
   ],
   "id": "40df8c98-b593-4853-806c-a666f7ec1a36"
  }
 ],
 "nbformat": 4,
 "nbformat_minor": 5,
 "metadata": {}
}
