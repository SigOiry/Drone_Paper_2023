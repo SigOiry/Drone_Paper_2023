{
 "cells": [
  {
   "cell_type": "markdown",
   "metadata": {},
   "source": [
    "# \n",
    "\n",
    "\\<!DOCTYPE qgis PUBLIC ‘http://mrcc.com/qgis.dtd’ ‘SYSTEM’\\> <qgis version=\"3.28.11-Firenze\"> <identifier></identifier> <parentidentifier></parentidentifier> <language></language> <type></type>"
   ],
   "id": "658793fd-4fd6-42a7-8a20-73abba1fc33c"
  },
  {
   "cell_type": "raw",
   "metadata": {
    "raw_mimetype": "text/html"
   },
   "source": [
    "<title>"
   ],
   "id": "388b1b8d-aa61-4cba-ad09-daa7c1ca8b21"
  },
  {
   "cell_type": "raw",
   "metadata": {
    "raw_mimetype": "text/html"
   },
   "source": [
    "</title>"
   ],
   "id": "d3b01b87-8cb2-4e20-92da-0e11efea9fea"
  },
  {
   "cell_type": "markdown",
   "metadata": {},
   "source": [
    "<abstract></abstract> <contact> <name></name> <organization></organization> <position></position> <voice></voice> <fax></fax> <email></email> <role></role> </contact> <links/> <fees></fees> <encoding></encoding> <crs> <spatialrefsys nativeFormat=\"Wkt\"> <wkt></wkt> <proj4></proj4> <srsid>0</srsid> <srid>0</srid> <authid></authid> <description></description> <projectionacronym></projectionacronym> <ellipsoidacronym></ellipsoidacronym> <geographicflag>false</geographicflag> </spatialrefsys> </crs> <extent> <spatial minz=\"0\" maxz=\"0\" maxy=\"0\" crs=\"\" dimensions=\"2\" minx=\"0\" miny=\"0\" maxx=\"0\"/> <temporal> <period> <start></start> <end></end> </period> </temporal> </extent> </qgis>"
   ],
   "id": "16e7e6d0-62f9-421f-8a89-e33759dc0f81"
  }
 ],
 "nbformat": 4,
 "nbformat_minor": 5,
 "metadata": {}
}
