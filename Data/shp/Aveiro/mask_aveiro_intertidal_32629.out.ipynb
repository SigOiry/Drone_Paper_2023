{
 "cells": [
  {
   "cell_type": "markdown",
   "metadata": {},
   "source": [
    "# \n",
    "\n",
    "\\<!DOCTYPE qgis PUBLIC ‘http://mrcc.com/qgis.dtd’ ‘SYSTEM’\\> <qgis version=\"3.28.1-Firenze\"> <identifier></identifier> <parentidentifier></parentidentifier> <language></language> <type></type>"
   ],
   "id": "5f5d4f2f-423c-4c7b-80e0-b6fab15cda9c"
  },
  {
   "cell_type": "raw",
   "metadata": {
    "raw_mimetype": "text/html"
   },
   "source": [
    "<title>"
   ],
   "id": "d43433d9-6cc3-4580-8f71-195431ea142b"
  },
  {
   "cell_type": "raw",
   "metadata": {
    "raw_mimetype": "text/html"
   },
   "source": [
    "</title>"
   ],
   "id": "984d7b2c-de48-43e8-a1e9-453a108ffe7c"
  },
  {
   "cell_type": "markdown",
   "metadata": {},
   "source": [
    "<abstract></abstract> <links/> <fees></fees> <encoding></encoding> <crs> <spatialrefsys nativeFormat=\"Wkt\"> <wkt></wkt> <proj4></proj4> <srsid>0</srsid> <srid>0</srid> <authid></authid> <description></description> <projectionacronym></projectionacronym> <ellipsoidacronym></ellipsoidacronym> <geographicflag>false</geographicflag> </spatialrefsys> </crs> <extent/> </qgis>"
   ],
   "id": "d4d93848-9bb9-4374-aae8-e05254e17d51"
  }
 ],
 "nbformat": 4,
 "nbformat_minor": 5,
 "metadata": {}
}
