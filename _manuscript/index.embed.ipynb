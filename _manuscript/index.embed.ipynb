version https://git-lfs.github.com/spec/v1
oid sha256:e6cbdac355c856e0ae2f1609278d053ff205816308e63ca91be1891b3d59c4e4
size 125221557
