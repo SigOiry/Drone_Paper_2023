version https://git-lfs.github.com/spec/v1
oid sha256:8e445a3d1ede73727ff05dde92cfda7544169e41920d87b91ca3350ec1c96c40
size 125221570
