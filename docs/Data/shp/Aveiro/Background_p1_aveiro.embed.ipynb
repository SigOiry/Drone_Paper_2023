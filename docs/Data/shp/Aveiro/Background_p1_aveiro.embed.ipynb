{
 "cells": [
  {
   "cell_type": "markdown",
   "metadata": {},
   "source": [
    "# \n",
    "\n",
    "\\<!DOCTYPE qgis PUBLIC ‘http://mrcc.com/qgis.dtd’ ‘SYSTEM’\\> <qgis version=\"3.28.11-Firenze\"> <identifier></identifier> <parentidentifier></parentidentifier> <language></language> <type></type>"
   ],
   "id": "f34a250c-f414-4141-96eb-6aadb89c854c"
  },
  {
   "cell_type": "raw",
   "metadata": {
    "raw_mimetype": "text/html"
   },
   "source": [
    "<title>"
   ],
   "id": "d9a284b2-3570-4625-8ab8-c8684f1ce27f"
  },
  {
   "cell_type": "raw",
   "metadata": {
    "raw_mimetype": "text/html"
   },
   "source": [
    "</title>"
   ],
   "id": "9cc8cbc0-d1d1-4452-8ad5-d90485348a2f"
  },
  {
   "cell_type": "markdown",
   "metadata": {},
   "source": [
    "<abstract></abstract> <links/> <fees></fees> <encoding></encoding> <crs> <spatialrefsys nativeFormat=\"Wkt\"> <wkt>PROJCRS\\[“WGS 84 / UTM zone 29N”,BASEGEOGCRS\\[“WGS 84”,ENSEMBLE\\[“World Geodetic System 1984 ensemble”,MEMBER\\[“World Geodetic System 1984 (Transit)”\\],MEMBER\\[“World Geodetic System 1984 (G730)”\\],MEMBER\\[“World Geodetic System 1984 (G873)”\\],MEMBER\\[“World Geodetic System 1984 (G1150)”\\],MEMBER\\[“World Geodetic System 1984 (G1674)”\\],MEMBER\\[“World Geodetic System 1984 (G1762)”\\],MEMBER\\[“World Geodetic System 1984 (G2139)”\\],ELLIPSOID\\[“WGS 84”,6378137,298.257223563,LENGTHUNIT\\[“metre”,1\\]\\],ENSEMBLEACCURACY\\[2.0\\]\\],PRIMEM\\[“Greenwich”,0,ANGLEUNIT\\[“degree”,0.0174532925199433\\]\\],ID\\[“EPSG”,4326\\]\\],CONVERSION\\[“UTM zone 29N”,METHOD\\[“Transverse Mercator”,ID\\[“EPSG”,9807\\]\\],PARAMETER\\[“Latitude of natural origin”,0,ANGLEUNIT\\[“degree”,0.0174532925199433\\],ID\\[“EPSG”,8801\\]\\],PARAMETER\\[“Longitude of natural origin”,-9,ANGLEUNIT\\[“degree”,0.0174532925199433\\],ID\\[“EPSG”,8802\\]\\],PARAMETER\\[“Scale factor at natural origin”,0.9996,SCALEUNIT\\[“unity”,1\\],ID\\[“EPSG”,8805\\]\\],PARAMETER\\[“False easting”,500000,LENGTHUNIT\\[“metre”,1\\],ID\\[“EPSG”,8806\\]\\],PARAMETER\\[“False northing”,0,LENGTHUNIT\\[“metre”,1\\],ID\\[“EPSG”,8807\\]\\]\\],CS\\[Cartesian,2\\],AXIS\\[“(E)”,east,ORDER\\[1\\],LENGTHUNIT\\[“metre”,1\\]\\],AXIS\\[“(N)”,north,ORDER\\[2\\],LENGTHUNIT\\[“metre”,1\\]\\],USAGE\\[SCOPE\\[“Navigation and medium accuracy spatial referencing.”\\],AREA\\[“Between 12°W and 6°W, northern hemisphere between equator and 84°N, onshore and offshore. Algeria. Côte D’Ivoire (Ivory Coast). Faroe Islands. Guinea. Ireland. Jan Mayen. Mali. Mauritania. Morocco. Portugal. Sierra Leone. Spain. United Kingdom (UK). Western Sahara.”\\],BBOX\\[0,-12,84,-6\\]\\],ID\\[“EPSG”,32629\\]\\]</wkt> <proj4>+proj=utm +zone=29 +datum=WGS84 +units=m +no_defs</proj4> <srsid>3113</srsid> <srid>32629</srid> <authid>EPSG:32629</authid> <description>WGS 84 / UTM zone 29N</description> <projectionacronym>utm</projectionacronym> <ellipsoidacronym>EPSG:7030</ellipsoidacronym> <geographicflag>false</geographicflag> </spatialrefsys> </crs> <extent/> </qgis>"
   ],
   "id": "e5db6325-3e33-4e70-8704-77e7510d61ee"
  }
 ],
 "nbformat": 4,
 "nbformat_minor": 5,
 "metadata": {}
}
