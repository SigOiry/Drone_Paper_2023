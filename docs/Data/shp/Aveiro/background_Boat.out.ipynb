{
 "cells": [
  {
   "cell_type": "markdown",
   "metadata": {},
   "source": [
    "# \n",
    "\n",
    "\\<!DOCTYPE qgis PUBLIC ‘http://mrcc.com/qgis.dtd’ ‘SYSTEM’\\> <qgis version=\"3.28.11-Firenze\"> <identifier></identifier> <parentidentifier></parentidentifier> <language></language> <type></type>"
   ],
   "id": "bfa88e73-a06f-4b8c-b9b0-55da2cb13b8b"
  },
  {
   "cell_type": "raw",
   "metadata": {
    "raw_mimetype": "text/html"
   },
   "source": [
    "<title>"
   ],
   "id": "544ad6c1-8016-46e0-9781-ff2eba2429f3"
  },
  {
   "cell_type": "raw",
   "metadata": {
    "raw_mimetype": "text/html"
   },
   "source": [
    "</title>"
   ],
   "id": "44cdde33-e879-45fb-8575-32dd064a5b44"
  },
  {
   "cell_type": "markdown",
   "metadata": {},
   "source": [
    "<abstract></abstract> <contact> <name></name> <organization></organization> <position></position> <voice></voice> <fax></fax> <email></email> <role></role> </contact> <links/> <fees></fees> <encoding></encoding> <crs> <spatialrefsys nativeFormat=\"Wkt\"> <wkt></wkt> <proj4></proj4> <srsid>0</srsid> <srid>0</srid> <authid></authid> <description></description> <projectionacronym></projectionacronym> <ellipsoidacronym></ellipsoidacronym> <geographicflag>false</geographicflag> </spatialrefsys> </crs> <extent> <spatial maxz=\"0\" maxy=\"0\" minz=\"0\" minx=\"0\" maxx=\"0\" miny=\"0\" dimensions=\"2\" crs=\"\"/> <temporal> <period> <start></start> <end></end> </period> </temporal> </extent> </qgis>"
   ],
   "id": "28bd81e0-c9f1-49ab-9cb5-91c18ee82a9e"
  }
 ],
 "nbformat": 4,
 "nbformat_minor": 5,
 "metadata": {}
}
