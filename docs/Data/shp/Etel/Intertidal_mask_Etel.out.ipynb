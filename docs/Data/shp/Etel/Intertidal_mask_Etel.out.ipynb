{
 "cells": [
  {
   "cell_type": "markdown",
   "metadata": {},
   "source": [
    "# \n",
    "\n",
    "\\<!DOCTYPE qgis PUBLIC ‘http://mrcc.com/qgis.dtd’ ‘SYSTEM’\\> <qgis version=\"3.28.1-Firenze\"> <identifier></identifier> <parentidentifier></parentidentifier> <language></language> <type></type>"
   ],
   "id": "18a6f5c2-04a9-4327-84f0-7d468c06a63e"
  },
  {
   "cell_type": "raw",
   "metadata": {
    "raw_mimetype": "text/html"
   },
   "source": [
    "<title>"
   ],
   "id": "4ea98eab-10e7-4439-88b0-034e0e2712d3"
  },
  {
   "cell_type": "raw",
   "metadata": {
    "raw_mimetype": "text/html"
   },
   "source": [
    "</title>"
   ],
   "id": "003570b6-6a98-4843-9786-4f60f9764109"
  },
  {
   "cell_type": "markdown",
   "metadata": {},
   "source": [
    "<abstract></abstract> <links/> <fees></fees> <encoding></encoding> <crs> <spatialrefsys nativeFormat=\"Wkt\"> <wkt></wkt> <proj4></proj4> <srsid>0</srsid> <srid>0</srid> <authid></authid> <description></description> <projectionacronym></projectionacronym> <ellipsoidacronym></ellipsoidacronym> <geographicflag>false</geographicflag> </spatialrefsys> </crs> <extent/> </qgis>"
   ],
   "id": "153d9078-b987-481c-b1d8-b522991d921a"
  }
 ],
 "nbformat": 4,
 "nbformat_minor": 5,
 "metadata": {}
}
