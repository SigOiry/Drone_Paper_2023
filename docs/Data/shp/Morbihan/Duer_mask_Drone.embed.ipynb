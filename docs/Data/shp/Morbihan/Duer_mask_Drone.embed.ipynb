{
 "cells": [
  {
   "cell_type": "markdown",
   "metadata": {},
   "source": [
    "# \n",
    "\n",
    "\\<!DOCTYPE qgis PUBLIC ‘http://mrcc.com/qgis.dtd’ ‘SYSTEM’\\> <qgis version=\"3.28.1-Firenze\"> <identifier></identifier> <parentidentifier></parentidentifier> <language></language> <type></type>"
   ],
   "id": "58193217-19b2-4e1e-8f3e-6abc060b6e9c"
  },
  {
   "cell_type": "raw",
   "metadata": {
    "raw_mimetype": "text/html"
   },
   "source": [
    "<title>"
   ],
   "id": "9565162a-330c-4fd2-b15f-4194f705daa5"
  },
  {
   "cell_type": "raw",
   "metadata": {
    "raw_mimetype": "text/html"
   },
   "source": [
    "</title>"
   ],
   "id": "b3026faf-acd0-470a-8410-c15ae5e18b5f"
  },
  {
   "cell_type": "markdown",
   "metadata": {},
   "source": [
    "<abstract></abstract> <links/> <fees></fees> <encoding></encoding> <crs> <spatialrefsys nativeFormat=\"Wkt\"> <wkt></wkt> <proj4></proj4> <srsid>0</srsid> <srid>0</srid> <authid></authid> <description></description> <projectionacronym></projectionacronym> <ellipsoidacronym></ellipsoidacronym> <geographicflag>false</geographicflag> </spatialrefsys> </crs> <extent/> </qgis>"
   ],
   "id": "d4253d39-2770-4c0d-8121-66f6890b5507"
  }
 ],
 "nbformat": 4,
 "nbformat_minor": 5,
 "metadata": {}
}
