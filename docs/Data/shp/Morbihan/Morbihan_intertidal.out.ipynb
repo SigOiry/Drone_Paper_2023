{
 "cells": [
  {
   "cell_type": "markdown",
   "metadata": {},
   "source": [
    "# \n",
    "\n",
    "\\<!DOCTYPE qgis PUBLIC ‘http://mrcc.com/qgis.dtd’ ‘SYSTEM’\\> <qgis version=\"3.28.1-Firenze\"> <identifier></identifier> <parentidentifier></parentidentifier> <language></language> <type></type>"
   ],
   "id": "d9813312-b386-4d22-b5aa-05413127a52a"
  },
  {
   "cell_type": "raw",
   "metadata": {
    "raw_mimetype": "text/html"
   },
   "source": [
    "<title>"
   ],
   "id": "01ab809f-6fae-4426-a1a3-dc8b6f4ad769"
  },
  {
   "cell_type": "raw",
   "metadata": {
    "raw_mimetype": "text/html"
   },
   "source": [
    "</title>"
   ],
   "id": "e60ddb3f-b29e-4e7e-b32e-2f926b4a23bc"
  },
  {
   "cell_type": "markdown",
   "metadata": {},
   "source": [
    "<abstract></abstract> <links/> <fees></fees> <encoding></encoding> <crs> <spatialrefsys nativeFormat=\"Wkt\"> <wkt></wkt> <proj4></proj4> <srsid>0</srsid> <srid>0</srid> <authid></authid> <description></description> <projectionacronym></projectionacronym> <ellipsoidacronym></ellipsoidacronym> <geographicflag>false</geographicflag> </spatialrefsys> </crs> <extent/> </qgis>"
   ],
   "id": "975d4d95-0901-41b6-b7cc-6a3ff0757f0f"
  }
 ],
 "nbformat": 4,
 "nbformat_minor": 5,
 "metadata": {}
}
