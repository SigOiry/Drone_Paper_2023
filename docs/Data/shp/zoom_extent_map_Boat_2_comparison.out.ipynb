{
 "cells": [
  {
   "cell_type": "markdown",
   "metadata": {},
   "source": [
    "# \n",
    "\n",
    "\\<!DOCTYPE qgis PUBLIC ‘http://mrcc.com/qgis.dtd’ ‘SYSTEM’\\> <qgis version=\"3.28.11-Firenze\"> <identifier></identifier> <parentidentifier></parentidentifier> <language></language> <type></type>"
   ],
   "id": "855111e2-00bf-4cce-81ac-694c381265bf"
  },
  {
   "cell_type": "raw",
   "metadata": {
    "raw_mimetype": "text/html"
   },
   "source": [
    "<title>"
   ],
   "id": "7a18fb33-1392-4275-9938-733e2a363a56"
  },
  {
   "cell_type": "raw",
   "metadata": {
    "raw_mimetype": "text/html"
   },
   "source": [
    "</title>"
   ],
   "id": "93d30a84-dc02-4a7d-a4ba-c34a7855eb6b"
  },
  {
   "cell_type": "markdown",
   "metadata": {},
   "source": [
    "<abstract></abstract> <contact> <name></name> <organization></organization> <position></position> <voice></voice> <fax></fax> <email></email> <role></role> </contact> <links/> <fees></fees> <encoding></encoding> <crs> <spatialrefsys nativeFormat=\"Wkt\"> <wkt>GEOGCRS\\[“WGS 84”,ENSEMBLE\\[“World Geodetic System 1984 ensemble”,MEMBER\\[“World Geodetic System 1984 (Transit)”\\],MEMBER\\[“World Geodetic System 1984 (G730)”\\],MEMBER\\[“World Geodetic System 1984 (G873)”\\],MEMBER\\[“World Geodetic System 1984 (G1150)”\\],MEMBER\\[“World Geodetic System 1984 (G1674)”\\],MEMBER\\[“World Geodetic System 1984 (G1762)”\\],MEMBER\\[“World Geodetic System 1984 (G2139)”\\],ELLIPSOID\\[“WGS 84”,6378137,298.257223563,LENGTHUNIT\\[“metre”,1\\]\\],ENSEMBLEACCURACY\\[2.0\\]\\],PRIMEM\\[“Greenwich”,0,ANGLEUNIT\\[“degree”,0.0174532925199433\\]\\],CS\\[ellipsoidal,2\\],AXIS\\[“geodetic latitude (Lat)”,north,ORDER\\[1\\],ANGLEUNIT\\[“degree”,0.0174532925199433\\]\\],AXIS\\[“geodetic longitude (Lon)”,east,ORDER\\[2\\],ANGLEUNIT\\[“degree”,0.0174532925199433\\]\\],USAGE\\[SCOPE\\[“Horizontal component of 3D system.”\\],AREA\\[“World.”\\],BBOX\\[-90,-180,90,180\\]\\],ID\\[“EPSG”,4326\\]\\]</wkt> <proj4>+proj=longlat +datum=WGS84 +no_defs</proj4> <srsid>3452</srsid> <srid>4326</srid> <authid>EPSG:4326</authid> <description>WGS 84</description> <projectionacronym>longlat</projectionacronym> <ellipsoidacronym>EPSG:7030</ellipsoidacronym> <geographicflag>true</geographicflag> </spatialrefsys> </crs> <extent> <spatial dimensions=\"2\" crs=\"EPSG:4326\" minz=\"0\" maxy=\"0\" minx=\"0\" maxz=\"0\" miny=\"0\" maxx=\"0\"/> <temporal> <period> <start></start> <end></end> </period> </temporal> </extent> </qgis>"
   ],
   "id": "f396725c-2abf-4a5b-bea6-4517d1aa16a7"
  }
 ],
 "nbformat": 4,
 "nbformat_minor": 5,
 "metadata": {}
}
