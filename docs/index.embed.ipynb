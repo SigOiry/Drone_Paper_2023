version https://git-lfs.github.com/spec/v1
oid sha256:85e8d20181a6b91f72a1a21da4590de846ba20b18378fb81d9af7b0a86eff4b8
size 13571878
