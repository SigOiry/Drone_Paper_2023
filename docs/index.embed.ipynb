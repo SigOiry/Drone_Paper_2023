version https://git-lfs.github.com/spec/v1
oid sha256:4daef0138e358e385ad7b1fa6965ccb044c55c816f0af443117e31863ac940e7
size 18047766
