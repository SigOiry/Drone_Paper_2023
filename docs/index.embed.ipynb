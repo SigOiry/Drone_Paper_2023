version https://git-lfs.github.com/spec/v1
oid sha256:47c7abd262e43c13add38fc86a5a693c0c9f719f7eede395352a6968e928a046
size 125369652
