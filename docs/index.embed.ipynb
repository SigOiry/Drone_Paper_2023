version https://git-lfs.github.com/spec/v1
oid sha256:2c8b9e94f54a9442b6988eaaca8092ef22dcc02ce68c6393297c8ee0db4c9a7f
size 13396542
