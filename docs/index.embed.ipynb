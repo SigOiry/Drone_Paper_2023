version https://git-lfs.github.com/spec/v1
oid sha256:74dcd402be49255bc74a14d2d6d9184ab8ccb08c8edca5afaeea26c6b5491451
size 13668904
