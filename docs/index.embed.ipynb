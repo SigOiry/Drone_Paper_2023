version https://git-lfs.github.com/spec/v1
oid sha256:a24c60349bdba3a2abcf37ef52556956f56198587c9b2849c7a320837523e562
size 18048914
