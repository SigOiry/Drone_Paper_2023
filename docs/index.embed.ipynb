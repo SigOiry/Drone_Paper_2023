version https://git-lfs.github.com/spec/v1
oid sha256:299b64e3fa7e44c88e3b5602ca5c3c452174124b29b511aff30981a02c8dd63f
size 13397121
