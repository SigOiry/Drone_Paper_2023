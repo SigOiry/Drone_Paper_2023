version https://git-lfs.github.com/spec/v1
oid sha256:5012e8f42a520b77b895b8804b37f817efa960e8705c0689955edf9fc1fb952d
size 13394895
