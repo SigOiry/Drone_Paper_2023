version https://git-lfs.github.com/spec/v1
oid sha256:e774937b30d9ea05e4b7c70edae76d9cb2ce431c1bf0c16bfba3875e3fef1c8f
size 18024198
