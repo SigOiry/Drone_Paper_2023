version https://git-lfs.github.com/spec/v1
oid sha256:bc46c2c2271a71d73b87f3c3f44ed876af0c7390be58e4a7cb155eaba1e730ec
size 18743786
