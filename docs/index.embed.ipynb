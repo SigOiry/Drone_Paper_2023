version https://git-lfs.github.com/spec/v1
oid sha256:5dfa83925c99b7c35610c2de3ea68a39a5827d7892c60fe4896a97767df167d7
size 125222244
