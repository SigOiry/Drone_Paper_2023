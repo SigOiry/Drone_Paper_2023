version https://git-lfs.github.com/spec/v1
oid sha256:39ab8fbf57da85e7845b51e029db9807eb9f80d3f698adaa8efd9a3c2c5689a5
size 20011135
