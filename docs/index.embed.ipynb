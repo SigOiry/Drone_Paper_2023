version https://git-lfs.github.com/spec/v1
oid sha256:18019ed3cdffec72845b4b8e399d60c8dd97feb1b38770d2396066b45300655f
size 13394869
