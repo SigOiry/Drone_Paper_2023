version https://git-lfs.github.com/spec/v1
oid sha256:de12c19392369941dc06f6a5e2c9324a6cbe5a724d98fd1bbaa0f4689a7f8705
size 21198658
