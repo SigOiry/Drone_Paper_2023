version https://git-lfs.github.com/spec/v1
oid sha256:e387d983d8ef6f6b85489c4eb8b5862f5ea8a27f2eb2bd1b4266dd63cce08b95
size 24601752
